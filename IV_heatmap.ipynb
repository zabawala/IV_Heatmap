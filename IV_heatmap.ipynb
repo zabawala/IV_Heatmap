{
 "cells": [
  {
   "cell_type": "code",
   "execution_count": null,
   "id": "2ef67229-1248-4b8d-a424-223c871aff45",
   "metadata": {},
   "outputs": [
    {
     "name": "stderr",
     "output_type": "stream",
     "text": [
      "2025-08-12 09:51:30.022 WARNING streamlit.runtime.scriptrunner_utils.script_run_context: Thread 'MainThread': missing ScriptRunContext! This warning can be ignored when running in bare mode.\n",
      "2025-08-12 09:51:30.178 \n",
      "  \u001b[33m\u001b[1mWarning:\u001b[0m to view this Streamlit app on a browser, run it with the following\n",
      "  command:\n",
      "\n",
      "    streamlit run /opt/miniconda3/envs/iv_heatmap/lib/python3.13/site-packages/ipykernel_launcher.py [ARGUMENTS]\n",
      "2025-08-12 09:51:30.178 Thread 'MainThread': missing ScriptRunContext! This warning can be ignored when running in bare mode.\n",
      "2025-08-12 09:51:30.179 Thread 'MainThread': missing ScriptRunContext! This warning can be ignored when running in bare mode.\n"
     ]
    }
   ],
   "source": [
    "import math\n",
    "from scipy.stats import norm\n",
    "import streamlit as st\n",
    "\n",
    "st.write(\"Hello World\")\n",
    "\n",
    "v = 0.2 # Standard guess for volatility\n",
    "\n",
    "# ---------------------------------\n",
    "# Math functions used in solvers\n",
    "# ---------------------------------\n",
    "\n",
    "def d1_d2(S, K, v, t, r):\n",
    "    d1 = (math.log(S/K) + t*(r + (0.5 * v ** 2)))/(v * math.sqrt(t))\n",
    "    d2 = d1 - (v * math.sqrt(t))\n",
    "    return d1, d2\n",
    "    \n",
    "def bs_call(S, K, v, t, r):\n",
    "    d1, d2 = d1_d2(S, K, v, t, r)\n",
    "    C = (S * norm.cdf(d1)) - (K * math.exp(-r * t) * norm.cdf(d2))\n",
    "    return C\n",
    "\n",
    "def bs_put(S, K, v, t, r):\n",
    "    d1, d2 = d1_d2(S, K, v, t, r)\n",
    "    P = (K * math.exp(-r * t) * norm.cdf(-d2)) - (S * norm.cdf(-d1))\n",
    "    return P\n",
    "\n",
    "def vega(S, K, v, t, r):\n",
    "    d1, d2 = d1_d2(S, K, v, t, r)\n",
    "    return (S * norm.pdf(d1) * math.sqrt(t))\n",
    "\n",
    "# ---------------------------------\n",
    "# Implied volatility solvers\n",
    "# ---------------------------------\n",
    "\n",
    "def implied_vol_call(S, K, v, t, r, mp):\n",
    "    count = 0\n",
    "    for count in range (1, 51): #max iteration set to 50\n",
    "        C = bs_call(S, K, v, t, r)\n",
    "        veg = vega(S, K, v, t, r)\n",
    "        v0 = v - (C - mp)/(veg)\n",
    "        \n",
    "        if abs(v0 - v) < 1e-4:\n",
    "            return v0, count\n",
    "        v = v0\n",
    "    return v, count\n",
    "\n",
    "def implied_vol_put(S, K, v, t, r, mp):\n",
    "    count = 0\n",
    "    for count in range (1, 51): #max iteration set to 50\n",
    "        P = bs_put(S, K, v, t, r)\n",
    "        veg = vega(S, K, v, t, r)\n",
    "        v0 = v - (P - mp)/(veg)\n",
    "        \n",
    "        if abs(v0 - v) < 1e-4:\n",
    "            return v0, count\n",
    "        v = v0\n",
    "    return v, count\n",
    "\n",
    "def option_type():\n",
    "    while True:\n",
    "        choice = input(\"Option type: (Call/Put)\")\n",
    "        \n",
    "        if choice == \"Call\":\n",
    "            break\n",
    "            \n",
    "        elif choice == \"Put\":\n",
    "            break\n",
    "            \n",
    "        else:\n",
    "            print(\"Invalid input. Please enter 'Call' or 'Put'. (case sensitive)\")\n",
    "            \n",
    "def main():\n",
    "    choice = option_type()\n",
    "    S = float(input('Spot Price:'))\n",
    "    K = float(input('Strike Price:'))\n",
    "    mp = float(input('Option market price: '))\n",
    "    t = float(input('Time to expiry:'))\n",
    "    r = float(input('Risk-free interest rate:'))\n",
    "    if choice == \"Call\":\n",
    "        iv, count = implied_vol_call(S, K, v, t, r, mp)\n",
    "        print(\"Implied volatility: \", round(iv, 5))\n",
    "        print(\"Number of iterations: \", count)\n",
    "    else:\n",
    "        iv, count = implied_vol_put(S, K, v, t, r, mp)\n",
    "        print(\"Implid \", round(iv, 5))\n",
    "        print(\"Number of iterations: \", count)\n",
    "\n",
    "main()"
   ]
  },
  {
   "cell_type": "code",
   "execution_count": null,
   "id": "a5cda68b",
   "metadata": {},
   "outputs": [
    {
     "data": {
      "text/plain": [
       "array([ 50.        ,  64.28571429,  78.57142857,  92.85714286,\n",
       "       107.14285714, 121.42857143, 135.71428571, 150.        ])"
      ]
     },
     "execution_count": 24,
     "metadata": {},
     "output_type": "execute_result"
    }
   ],
   "source": [
    "import pandas as pd\n",
    "import numpy as np\n",
    "min_K = 50\n",
    "max_K = 150\n",
    "increment = difference/n_strikes\n",
    "strike_values = np.linspace(min_K, max_K, 8)\n",
    "time_values = np.linspace(0.5, 4.0, 8)\n",
    "\n",
    "\n",
    "#strike_values_grid = strike_values[:, None]\n",
    "#time_values_grid = time_values[None, :]\n",
    "\n",
    "#data = strike_values_grid + time_values_grid\n",
    "#df_heatmap = pd.DataFrame(data, index = time_values, columns = strike_values)\n",
    "\n",
    "#df_heatmap\n"
   ]
  },
  {
   "cell_type": "code",
   "execution_count": 31,
   "id": "85890bee",
   "metadata": {},
   "outputs": [
    {
     "name": "stdout",
     "output_type": "stream",
     "text": [
      "0.5671432925991979\n"
     ]
    }
   ],
   "source": [
    "import math\n",
    "from scipy.optimize import brentq\n",
    "\n",
    "f = lambda x: x + math.log(x)\n",
    "\n",
    "print(brentq(f, 1e-10, 10, xtol = 1e-4, full_output=False))"
   ]
  },
  {
   "cell_type": "code",
   "execution_count": null,
   "id": "26b86f5b",
   "metadata": {},
   "outputs": [],
   "source": []
  }
 ],
 "metadata": {
  "jupytext": {
   "formats": "ipynb,py:percent"
  },
  "kernelspec": {
   "display_name": "iv_heatmap",
   "language": "python",
   "name": "python3"
  },
  "language_info": {
   "codemirror_mode": {
    "name": "ipython",
    "version": 3
   },
   "file_extension": ".py",
   "mimetype": "text/x-python",
   "name": "python",
   "nbconvert_exporter": "python",
   "pygments_lexer": "ipython3",
   "version": "3.13.5"
  }
 },
 "nbformat": 4,
 "nbformat_minor": 5
}
